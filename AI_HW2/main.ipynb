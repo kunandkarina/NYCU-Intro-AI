{
 "cells": [
  {
   "cell_type": "code",
   "execution_count": 9,
   "id": "likely-spring",
   "metadata": {},
   "outputs": [
    {
     "name": "stdout",
     "output_type": "stream",
     "text": [
      "Requirement already satisfied: folium in c:\\users\\user\\appdata\\local\\packages\\pythonsoftwarefoundation.python.3.11_qbz5n2kfra8p0\\localcache\\local-packages\\python311\\site-packages (0.14.0)\n",
      "Requirement already satisfied: branca>=0.6.0 in c:\\users\\user\\appdata\\local\\packages\\pythonsoftwarefoundation.python.3.11_qbz5n2kfra8p0\\localcache\\local-packages\\python311\\site-packages (from folium) (0.6.0)\n",
      "Requirement already satisfied: jinja2>=2.9 in c:\\users\\user\\appdata\\local\\packages\\pythonsoftwarefoundation.python.3.11_qbz5n2kfra8p0\\localcache\\local-packages\\python311\\site-packages (from folium) (3.1.2)\n",
      "Requirement already satisfied: numpy in c:\\users\\user\\appdata\\local\\packages\\pythonsoftwarefoundation.python.3.11_qbz5n2kfra8p0\\localcache\\local-packages\\python311\\site-packages (from folium) (1.24.2)\n",
      "Requirement already satisfied: requests in c:\\users\\user\\appdata\\local\\packages\\pythonsoftwarefoundation.python.3.11_qbz5n2kfra8p0\\localcache\\local-packages\\python311\\site-packages (from folium) (2.28.2)\n",
      "Requirement already satisfied: MarkupSafe>=2.0 in c:\\users\\user\\appdata\\local\\packages\\pythonsoftwarefoundation.python.3.11_qbz5n2kfra8p0\\localcache\\local-packages\\python311\\site-packages (from jinja2>=2.9->folium) (2.1.2)\n",
      "Requirement already satisfied: charset-normalizer<4,>=2 in c:\\users\\user\\appdata\\local\\packages\\pythonsoftwarefoundation.python.3.11_qbz5n2kfra8p0\\localcache\\local-packages\\python311\\site-packages (from requests->folium) (3.1.0)\n",
      "Requirement already satisfied: idna<4,>=2.5 in c:\\users\\user\\appdata\\local\\packages\\pythonsoftwarefoundation.python.3.11_qbz5n2kfra8p0\\localcache\\local-packages\\python311\\site-packages (from requests->folium) (3.4)\n",
      "Requirement already satisfied: urllib3<1.27,>=1.21.1 in c:\\users\\user\\appdata\\local\\packages\\pythonsoftwarefoundation.python.3.11_qbz5n2kfra8p0\\localcache\\local-packages\\python311\\site-packages (from requests->folium) (1.26.15)\n",
      "Requirement already satisfied: certifi>=2017.4.17 in c:\\users\\user\\appdata\\local\\packages\\pythonsoftwarefoundation.python.3.11_qbz5n2kfra8p0\\localcache\\local-packages\\python311\\site-packages (from requests->folium) (2022.12.7)\n"
     ]
    },
    {
     "name": "stderr",
     "output_type": "stream",
     "text": [
      "\n",
      "[notice] A new release of pip available: 22.3.1 -> 23.0.1\n",
      "[notice] To update, run: C:\\Users\\user\\AppData\\Local\\Microsoft\\WindowsApps\\PythonSoftwareFoundation.Python.3.11_qbz5n2kfra8p0\\python.exe -m pip install --upgrade pip\n"
     ]
    }
   ],
   "source": [
    "# For Google Colab\n",
    "# Install folium package.\n",
    "!pip install folium"
   ]
  },
  {
   "cell_type": "code",
   "execution_count": 10,
   "id": "legislative-animal",
   "metadata": {},
   "outputs": [
    {
     "ename": "ModuleNotFoundError",
     "evalue": "No module named 'google'",
     "output_type": "error",
     "traceback": [
      "\u001b[1;31m---------------------------------------------------------------------------\u001b[0m",
      "\u001b[1;31mModuleNotFoundError\u001b[0m                       Traceback (most recent call last)",
      "Cell \u001b[1;32mIn[10], line 4\u001b[0m\n\u001b[0;32m      1\u001b[0m \u001b[39m# For Google Colab\u001b[39;00m\n\u001b[0;32m      2\u001b[0m \u001b[39m# Mount your Google drive and copy all files from \"AI_HW2\" directory\u001b[39;00m\n\u001b[0;32m      3\u001b[0m \u001b[39m# in your Google drive to current directory.\u001b[39;00m\n\u001b[1;32m----> 4\u001b[0m \u001b[39mfrom\u001b[39;00m \u001b[39mgoogle\u001b[39;00m\u001b[39m.\u001b[39;00m\u001b[39mcolab\u001b[39;00m \u001b[39mimport\u001b[39;00m drive\n\u001b[0;32m      5\u001b[0m drive\u001b[39m.\u001b[39mmount(\u001b[39m'\u001b[39m\u001b[39m/content/gdrive\u001b[39m\u001b[39m'\u001b[39m)\n\u001b[0;32m      6\u001b[0m get_ipython()\u001b[39m.\u001b[39msystem(\u001b[39m'\u001b[39m\u001b[39mcp -r ./gdrive/MyDrive/AI_HW2/* .\u001b[39m\u001b[39m'\u001b[39m)\n",
      "\u001b[1;31mModuleNotFoundError\u001b[0m: No module named 'google'"
     ]
    }
   ],
   "source": [
    "# For Google Colab\n",
    "# Mount your Google drive and copy all files from \"AI_HW2\" directory\n",
    "# in your Google drive to current directory.\n",
    "from google.colab import drive\n",
    "drive.mount('/content/gdrive')\n",
    "!cp -r ./gdrive/MyDrive/AI_HW2/* ."
   ]
  },
  {
   "cell_type": "code",
   "execution_count": null,
   "id": "legitimate-luxury",
   "metadata": {},
   "outputs": [],
   "source": [
    "# Don't change this part.\n",
    "# For load graph information and show map\n",
    "import folium\n",
    "import pickle\n",
    "def load_path_graph(path):\n",
    "    with open('graph.pkl', 'rb') as f:\n",
    "        graph = pickle.load(f)\n",
    "\n",
    "    node_pairs = list(zip(path[:-1], path[1:]))\n",
    "    lines = []\n",
    "    for edge in graph:\n",
    "        if (edge['u'], edge['v']) in node_pairs or  (edge['v'], edge['u']) in node_pairs:\n",
    "            lines.append(edge['geometry'])\n",
    "    return lines"
   ]
  },
  {
   "cell_type": "code",
   "execution_count": 11,
   "id": "functioning-photograph",
   "metadata": {},
   "outputs": [],
   "source": [
    "# Part 1~4 and 6\n",
    "# You can wirte in new .py files and import it.\n",
    "# ex: from astar import astar\n",
    "from bfs import bfs\n",
    "from dfs_stack import dfs\n",
    "from ucs import ucs\n",
    "from astar import astar\n",
    "from astar_time import astar_time"
   ]
  },
  {
   "cell_type": "code",
   "execution_count": 12,
   "id": "collective-martin",
   "metadata": {},
   "outputs": [],
   "source": [
    "# Part 5\n",
    "# Change start ID and end ID.\n",
    "start = 2270143902\n",
    "end = 1079387396"
   ]
  },
  {
   "cell_type": "code",
   "execution_count": 13,
   "id": "burning-green",
   "metadata": {
    "scrolled": false
   },
   "outputs": [
    {
     "ename": "FileNotFoundError",
     "evalue": "[Errno 2] No such file or directory: 'python/AI_HW2/edges.csv'",
     "output_type": "error",
     "traceback": [
      "\u001b[1;31m---------------------------------------------------------------------------\u001b[0m",
      "\u001b[1;31mFileNotFoundError\u001b[0m                         Traceback (most recent call last)",
      "Cell \u001b[1;32mIn[13], line 3\u001b[0m\n\u001b[0;32m      1\u001b[0m \u001b[39m# Don't change this part.\u001b[39;00m\n\u001b[0;32m      2\u001b[0m \u001b[39m# Show the result of BFS\u001b[39;00m\n\u001b[1;32m----> 3\u001b[0m bfs_path, bfs_dist, bfs_visited \u001b[39m=\u001b[39m bfs(start, end)\n\u001b[0;32m      4\u001b[0m \u001b[39mprint\u001b[39m(\u001b[39mf\u001b[39m\u001b[39m'\u001b[39m\u001b[39mThe number of nodes in the path found by BFS: \u001b[39m\u001b[39m{\u001b[39;00m\u001b[39mlen\u001b[39m(bfs_path)\u001b[39m}\u001b[39;00m\u001b[39m'\u001b[39m)\n\u001b[0;32m      5\u001b[0m \u001b[39mprint\u001b[39m(\u001b[39mf\u001b[39m\u001b[39m'\u001b[39m\u001b[39mTotal distance of path found by BFS: \u001b[39m\u001b[39m{\u001b[39;00mbfs_dist\u001b[39m}\u001b[39;00m\u001b[39m m\u001b[39m\u001b[39m'\u001b[39m)\n",
      "File \u001b[1;32mc:\\Users\\user\\Desktop\\code\\python\\AI_HW2\\bfs.py:10\u001b[0m, in \u001b[0;36mbfs\u001b[1;34m(start, end)\u001b[0m\n\u001b[0;32m      5\u001b[0m \u001b[39mdef\u001b[39;00m \u001b[39mbfs\u001b[39m(start, end):\n\u001b[0;32m      6\u001b[0m \n\u001b[0;32m      7\u001b[0m     \u001b[39m# Begin your code (Part 1)\u001b[39;00m\n\u001b[0;32m      8\u001b[0m     \u001b[39m# raise ImplementedError(\"To be implemented\")\u001b[39;00m\n\u001b[0;32m      9\u001b[0m     edges \u001b[39m=\u001b[39m {}\n\u001b[1;32m---> 10\u001b[0m     \u001b[39mwith\u001b[39;00m \u001b[39mopen\u001b[39;49m(edgeFile, newline\u001b[39m=\u001b[39;49m\u001b[39m'\u001b[39;49m\u001b[39m'\u001b[39;49m) \u001b[39mas\u001b[39;00m csvfile:\n\u001b[0;32m     11\u001b[0m         rows \u001b[39m=\u001b[39m csv\u001b[39m.\u001b[39mreader(csvfile, delimiter\u001b[39m=\u001b[39m\u001b[39m'\u001b[39m\u001b[39m,\u001b[39m\u001b[39m'\u001b[39m)\n\u001b[0;32m     12\u001b[0m         headers \u001b[39m=\u001b[39m \u001b[39mnext\u001b[39m(rows)\n",
      "\u001b[1;31mFileNotFoundError\u001b[0m: [Errno 2] No such file or directory: 'python/AI_HW2/edges.csv'"
     ]
    }
   ],
   "source": [
    "# Don't change this part.\n",
    "# Show the result of BFS\n",
    "bfs_path, bfs_dist, bfs_visited = bfs(start, end)\n",
    "print(f'The number of nodes in the path found by BFS: {len(bfs_path)}')\n",
    "print(f'Total distance of path found by BFS: {bfs_dist} m')\n",
    "print(f'The number of visited nodes in BFS: {bfs_visited}\\n')\n",
    "\n",
    "fmap = folium.Map(location=(24.806383132251874, 120.97685775516189), zoom_start=13)\n",
    "for line in load_path_graph(bfs_path):\n",
    "    fmap.add_child(folium.PolyLine(locations=line, tooltip='bfs', weight=4, color='blue'))\n",
    "fmap"
   ]
  },
  {
   "cell_type": "code",
   "execution_count": null,
   "id": "dirty-strip",
   "metadata": {},
   "outputs": [
    {
     "ename": "NotImplementedError",
     "evalue": "To be implemented",
     "output_type": "error",
     "traceback": [
      "\u001b[1;31m---------------------------------------------------------------------------\u001b[0m",
      "\u001b[1;31mNotImplementedError\u001b[0m                       Traceback (most recent call last)",
      "Cell \u001b[1;32mIn[23], line 3\u001b[0m\n\u001b[0;32m      1\u001b[0m \u001b[39m# Don't change this part.\u001b[39;00m\n\u001b[0;32m      2\u001b[0m \u001b[39m# Show the result of DFS\u001b[39;00m\n\u001b[1;32m----> 3\u001b[0m dfs_path, dfs_dist, dfs_visited \u001b[39m=\u001b[39m dfs(start, end)\n\u001b[0;32m      4\u001b[0m \u001b[39mprint\u001b[39m(\u001b[39mf\u001b[39m\u001b[39m'\u001b[39m\u001b[39mThe number of nodes in the path found by DFS: \u001b[39m\u001b[39m{\u001b[39;00m\u001b[39mlen\u001b[39m(dfs_path)\u001b[39m}\u001b[39;00m\u001b[39m'\u001b[39m)\n\u001b[0;32m      5\u001b[0m \u001b[39mprint\u001b[39m(\u001b[39mf\u001b[39m\u001b[39m'\u001b[39m\u001b[39mTotal distance of path found by DFS: \u001b[39m\u001b[39m{\u001b[39;00mdfs_dist\u001b[39m}\u001b[39;00m\u001b[39m m\u001b[39m\u001b[39m'\u001b[39m)\n",
      "File \u001b[1;32mc:\\Users\\user\\Desktop\\code\\python\\AI_HW2\\dfs_stack.py:7\u001b[0m, in \u001b[0;36mdfs\u001b[1;34m(start, end)\u001b[0m\n\u001b[0;32m      5\u001b[0m \u001b[39mdef\u001b[39;00m \u001b[39mdfs\u001b[39m(start, end):\n\u001b[0;32m      6\u001b[0m     \u001b[39m# Begin your code (Part 2)\u001b[39;00m\n\u001b[1;32m----> 7\u001b[0m     \u001b[39mraise\u001b[39;00m \u001b[39mNotImplementedError\u001b[39;00m(\u001b[39m\"\u001b[39m\u001b[39mTo be implemented\u001b[39m\u001b[39m\"\u001b[39m)\n",
      "\u001b[1;31mNotImplementedError\u001b[0m: To be implemented"
     ]
    }
   ],
   "source": [
    "# Don't change this part.\n",
    "# Show the result of DFS\n",
    "dfs_path, dfs_dist, dfs_visited = dfs(start, end)\n",
    "print(f'The number of nodes in the path found by DFS: {len(dfs_path)}')\n",
    "print(f'Total distance of path found by DFS: {dfs_dist} m')\n",
    "print(f'The number of visited nodes in DFS: {dfs_visited}\\n')\n",
    "\n",
    "fmap = folium.Map(location=(24.806383132251874, 120.97685775516189), zoom_start=13)\n",
    "for line in load_path_graph(dfs_path):\n",
    "    fmap.add_child(folium.PolyLine(locations=line, tooltip='dfs', weight=4, color='green'))\n",
    "fmap"
   ]
  },
  {
   "cell_type": "code",
   "execution_count": null,
   "id": "broke-target",
   "metadata": {},
   "outputs": [],
   "source": [
    "# Don't change this part.\n",
    "# Show the result of UCS\n",
    "ucs_path, ucs_dist, ucs_visited = ucs(start, end)\n",
    "print(f'The number of nodes in the path found by UCS: {len(ucs_path)}')\n",
    "print(f'Total distance of path found by UCS: {ucs_dist} m')\n",
    "print(f'The number of visited nodes in UCS: {ucs_visited}\\n')\n",
    "\n",
    "fmap = folium.Map(location=(24.806383132251874, 120.97685775516189), zoom_start=13)\n",
    "for line in load_path_graph(ucs_path):\n",
    "    fmap.add_child(folium.PolyLine(locations=line, tooltip='ucs', weight=4, color='violet'))\n",
    "fmap"
   ]
  },
  {
   "cell_type": "code",
   "execution_count": null,
   "id": "stable-lightweight",
   "metadata": {},
   "outputs": [],
   "source": [
    "# Don't change this part.\n",
    "# Show the result of A* search\n",
    "astar_path, astar_dist, astar_visited = astar(start, end)\n",
    "print(f'The number of nodes in the path found by A* search: {len(astar_path)}')\n",
    "print(f'Total distance of path found by A* search: {astar_dist} m')\n",
    "print(f'The number of visited nodes in A* search: {astar_visited}\\n')\n",
    "\n",
    "fmap = folium.Map(location=(24.806383132251874, 120.97685775516189), zoom_start=13)\n",
    "for line in load_path_graph(astar_path):\n",
    "    fmap.add_child(folium.PolyLine(locations=line, tooltip='astar', weight=4, color='red'))\n",
    "fmap"
   ]
  },
  {
   "cell_type": "code",
   "execution_count": null,
   "id": "exempt-wagon",
   "metadata": {},
   "outputs": [],
   "source": [
    "# Part 6 (Bonus)\n",
    "# Don't change this part.\n",
    "# Show the shortest time result of A* search\n",
    "time_path, time, time_visited = astar_time(start, end)\n",
    "print(f'The number of nodes in the path found by A* search: {len(time_path)}')\n",
    "print(f'Total second of path found by A* search: {time} s')\n",
    "print(f'The number of visited nodes in A* search: {time_visited}\\n')\n",
    "\n",
    "fmap = folium.Map(location=(24.806383132251874, 120.97685775516189), zoom_start=13)\n",
    "for line in load_path_graph(time_path):\n",
    "    fmap.add_child(folium.PolyLine(locations=line, tooltip='astar', weight=4, color='red'))\n",
    "fmap"
   ]
  },
  {
   "cell_type": "code",
   "execution_count": null,
   "id": "comic-newark",
   "metadata": {},
   "outputs": [],
   "source": [
    "# For Google Colab\n",
    "# Remember to execute this line once you've modified any .py file\n",
    "# Save the .py code you have modified to your Google Drive\n",
    "!cp ./*.py ./gdrive/MyDrive/AI_HW2/"
   ]
  }
 ],
 "metadata": {
  "kernelspec": {
   "display_name": "Python 3",
   "language": "python",
   "name": "python3"
  },
  "language_info": {
   "codemirror_mode": {
    "name": "ipython",
    "version": 3
   },
   "file_extension": ".py",
   "mimetype": "text/x-python",
   "name": "python",
   "nbconvert_exporter": "python",
   "pygments_lexer": "ipython3",
   "version": "3.11.2"
  }
 },
 "nbformat": 4,
 "nbformat_minor": 5
}
